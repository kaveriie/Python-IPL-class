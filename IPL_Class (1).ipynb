{
  "nbformat": 4,
  "nbformat_minor": 0,
  "metadata": {
    "colab": {
      "name": "IPL_Class.ipynb",
      "provenance": [],
      "collapsed_sections": []
    },
    "kernelspec": {
      "name": "python3",
      "display_name": "Python 3"
    },
    "language_info": {
      "name": "python"
    }
  },
  "cells": [
    {
      "cell_type": "code",
      "execution_count": null,
      "metadata": {
        "id": "NHg_lZ_nhDHR",
        "outputId": "c089f515-9d34-4a4f-af16-e9be520d9dd9",
        "colab": {
          "base_uri": "https://localhost:8080/"
        }
      },
      "outputs": [
        {
          "output_type": "stream",
          "name": "stdout",
          "text": [
            "-------------------------------------IPL-------------------------------------\n",
            "\n",
            "\n",
            "**************************************************\n",
            "Shubman Gill - Batsman - Sold for: 8 Crore\n",
            "**************************************************\n",
            "\n",
            "TEAM: Gujarat Titans \tGROUND: Narendra Modi Stadium\n",
            "CAPTAIN: Hardik Pandya \tCOACH: Ashish Nehra\n",
            "\n",
            "\n",
            "**************************************************\n",
            "Riyan Parag - All-rounder - Sold for: 3.8 Crore\n",
            "**************************************************\n",
            "\n",
            "TEAM: Rajasthan Royals \tGROUND: Sawai Man Singh Stadium Jaipur\n",
            "CAPTAIN: Sanju Samson \tCOACH: Kumar Sangakkara\n"
          ]
        }
      ],
      "source": [
        "class IPL_Player:\n",
        "  print(\"-------------------------------------IPL-------------------------------------\")\n",
        "  def __init__(self, name, role, price, team):\n",
        "    self.name = name\n",
        "    self.role = role\n",
        "    self.price = price\n",
        "    self.team = team\n",
        "\n",
        "  def player_info(self):\n",
        "    print(\"\\n\\n**************************************************\")\n",
        "    print(self.name,\"-\",self.role,\"- Sold for:\",self.price)\n",
        "    print(\"**************************************************\\n\")\n",
        "\n",
        "\n",
        "  def team_info(self):\n",
        "    if self.team==\"CSK\":\n",
        "      self.ground = \"MA Chidambaram Stadium\"\n",
        "      self.captain = \"MS Dhoni\"\n",
        "      self.coach = \"Stephen Fleming\"\n",
        "      self.team=\"Chennai Super Kings\"\n",
        "\n",
        "    elif self.team==\"DC\":\n",
        "      self.ground = \"Arun Jaitley Stadium\"\n",
        "      self.captain = \"Rishabh Pant\"\n",
        "      self.coach = \"Ricky Ponting\"\n",
        "      self.team=\"Delhi Capitals\"\n",
        "\n",
        "    elif self.team==\"GT\":\n",
        "      self.ground = \"Narendra Modi Stadium\"\n",
        "      self.captain = \"Hardik Pandya\"\n",
        "      self.coach = \"Ashish Nehra\"\n",
        "      self.team=\"Gujarat Titans\"\n",
        "\n",
        "    elif self.team==\"KKR\":\n",
        "      self.ground = \"Eden Gardens\"\n",
        "      self.captain = \"Shreyas Iyer\"\n",
        "      self.coach = \"Brendon McCullum\"\n",
        "      self.team = \"Kolkata Knight Riders\"\n",
        "\n",
        "    elif self.team==\"LSG\":\n",
        "      self.ground = \"Bharat Ratna Atal Bihari Vajpayee Ekana Stadium\"\n",
        "      self.captain = \"KL Rahul\"\n",
        "      self.coach = \"Andy Flower\"\n",
        "      self.team = \"Lucknow Super Giants\"\n",
        "\n",
        "    elif self.team==\"MI\":\n",
        "      self.ground = \"Wankhede Stadium\"\n",
        "      self.captain = \"Rohit Sharma\"\n",
        "      self.coach = \"Mahela Jayawardene\"\n",
        "      self.team = \"Mumbai Indians\"\n",
        "\n",
        "    elif self.team==\"PK\":\n",
        "      self.ground = \"PCA Stadium\tMohali\"\n",
        "      self.captain = \"Mayank Agarwal\"\n",
        "      self.coach = \"Anil Kumble\"\n",
        "      self.team = \"Punjab Kings\"\n",
        "\n",
        "    elif self.team==\"RR\":\n",
        "      self.ground = \"Sawai Man Singh Stadium Jaipur\"\n",
        "      self.captain = \"Sanju Samson\"\n",
        "      self.coach = \"Kumar Sangakkara\"\n",
        "      self.team = \"Rajasthan Royals\"\n",
        "\n",
        "    elif self.team==\"RCB\":\t\t\n",
        "      self.ground = \"M Chinnaswamy Stadium\tBengaluru\"\n",
        "      self.captain = \"Faf du Plessis\"\n",
        "      self.coach = \"Sanjay Bangar\"\n",
        "      self.team = \"Royal Challengers Bangalore\"\n",
        "\n",
        "    elif self.team==\"SRH\":\n",
        "      self.ground = \"Rajiv Gandhi International Stadium\tHyderabad\"\n",
        "      self.captain = \"Kane Williamson\"\n",
        "      self.coach = \"Tom Moody\"\n",
        "      self.team = \"Sunrisers Hyderabad\"\n",
        "\n",
        "    ## team info..\n",
        "    print(\"TEAM:\",self.team,\"\\tGROUND:\",self.ground)\n",
        "    print(\"CAPTAIN:\",self.captain,\"\\tCOACH:\",self.coach)\n",
        "\n",
        "\n",
        "ipl_obj=IPL_Player(\"Shubman Gill\",\"Batsman\",\"8 Crore\",\"GT\")\n",
        "ipl_obj.player_info()\n",
        "ipl_obj.team_info()\n",
        "\n",
        "ipl_obj2=IPL_Player(\"Riyan Parag\",\"All-rounder\",\"3.8 Crore\",\"RR\")\n",
        "ipl_obj2.player_info()\n",
        "ipl_obj2.team_info()\n"
      ]
    },
    {
      "cell_type": "code",
      "source": [
        ""
      ],
      "metadata": {
        "id": "u5b721E9hEW9"
      },
      "execution_count": null,
      "outputs": []
    }
  ]
}